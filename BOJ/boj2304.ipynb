{
 "cells": [
  {
   "cell_type": "markdown",
   "metadata": {},
   "source": [
    "<p align=\"center\">\n",
    "<img src=\"./rf/img/창고.PNG\" width=\"400\" height= \"\" /> </center> <br>\n",
    "</p>"
   ]
  },
  {
   "cell_type": "code",
   "execution_count": null,
   "metadata": {},
   "outputs": [],
   "source": [
    "n = int(input())\n",
    "build = [list(map(int,input().split())) for _ in range(n)]\n",
    "build.sort()\n",
    "s1 = h1 = 0\n",
    "s2 = h2 = 0\n",
    "front = back = 0\n",
    "for i in range(n) :\n",
    "    if build[i][1] - h1 > 0 : # 1부터 최대 높은 막대가 나타난다면 거기까지 면적 합\n",
    "        front += (build[i][0]-s1)*h1\n",
    "        s1 = build[i][0]\n",
    "        h1 = build[i][1]\n",
    "        cnt_h1 = 1 # 최대 높이 건물 개수\n",
    "        print('front : ' ,i, front) \n",
    "\n",
    "    elif build[i][1] == h1 : # 최대 높이의 건물이 여러 개인 경우 고려\n",
    "        cnt_h1 = build[i][0] - s1 + 1 # 건물 사이 거리 계산\n",
    "        print('max : ' ,i, front) \n",
    "\n",
    "    if build[n-1-i][1] - h2 > 0 : # n-1부터 최대 높은 막대가 나타난다면 거기까지 면적 합\n",
    "        back += (s2-build[n-1-i][0])*h2\n",
    "        s2 = build[n-1-i][0]\n",
    "        h2 = build[n-1-i][1]\n",
    "         print('back : ' ,i, back)\n",
    "\n",
    "print('answer : ' ,front+back+h1*cnt_h1)"
   ]
  }
 ],
 "metadata": {
  "language_info": {
   "name": "python"
  }
 },
 "nbformat": 4,
 "nbformat_minor": 2
}
